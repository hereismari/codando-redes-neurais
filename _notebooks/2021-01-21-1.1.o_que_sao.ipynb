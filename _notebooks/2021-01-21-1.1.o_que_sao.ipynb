{
 "cells": [
  {
   "cell_type": "markdown",
   "metadata": {},
   "source": [
    "# 1.1 Introdução a Redes Neurais: o que são?\n",
    "\n",
    "\n",
    "Nesta seção iremos discutir o que são redes neurais e como implementá-las de forma eficiente utilizando matrizes."
   ]
  },
  {
   "cell_type": "markdown",
   "metadata": {},
   "source": [
    "## Redes Neurais são aproximadores de funções"
   ]
  },
  {
   "cell_type": "markdown",
   "metadata": {},
   "source": [
    "Redes neurais podem ser vistas de maneira bastante simplificada como **funções matemáticas**.\n",
    "\n",
    "**Ideia abstrata**\n",
    "\n",
    "```\n",
    "Entradas: x ----> Computação: f ------> Saídas: f(x)\n",
    "```\n",
    " \n",
    "\n",
    "**Matemática**\n",
    "\n",
    "$f(x) = x \\times 2 + 3$\n",
    "\n",
    "**Python**\n",
    "\n",
    "```python\n",
    "def f(x):\n",
    "    return x * 2 + 3\n",
    "```\n",
    "\n",
    "\n",
    "Similar à funções, as redes neurais possuem entradas e saídas. As entradas são representadas por amostras dos seus dados. As saídas, por sua vez, dependem de que tarefa estamos desempenhando.\n",
    "\n",
    "Por exemplo, se estamos treinando uma rede neural para classificar imagens que contém cachorros ou gatos, as entradas serão imagens (matrizes de píxels) e as saídas podem ser simplismente um valor binário (1 se tiver um gato na imagem e 0 se tiver um cachorro). A questão é: não sabemos a melhor função `f` para mapear as entradas para as saídas. Podemos treinar uma rede neural para achar essa função."
   ]
  }
 ],
 "metadata": {
  "kernelspec": {
   "display_name": "Python 3",
   "language": "python",
   "name": "python3"
  },
  "language_info": {
   "codemirror_mode": {
    "name": "ipython",
    "version": 3
   },
   "file_extension": ".py",
   "mimetype": "text/x-python",
   "name": "python",
   "nbconvert_exporter": "python",
   "pygments_lexer": "ipython3",
   "version": "3.6.9"
  }
 },
 "nbformat": 4,
 "nbformat_minor": 2
}
