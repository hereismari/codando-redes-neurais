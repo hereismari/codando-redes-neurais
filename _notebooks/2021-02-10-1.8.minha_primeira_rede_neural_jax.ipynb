{
 "cells": [
  {
   "cell_type": "markdown",
   "metadata": {},
   "source": [
    "# 1.5 Introdução a Redes Neurais: minha primeira Rede Neural em JAX :D\n",
    "\n",
    "Vamos codar nossa primeira rede neural que de fato aprende com exemplos. Para isso vamos começar resolvendo o problema de regressão e classificação com bases de dados simples e fictícias para então resolver uma base de dados real.\n"
   ]
  },
  {
   "cell_type": "markdown",
   "metadata": {},
   "source": [
    "#### Dependências"
   ]
  },
  {
   "cell_type": "code",
   "execution_count": 1,
   "metadata": {},
   "outputs": [],
   "source": [
    "# Gráficos\n",
    "import matplotlib.pyplot as plt\n",
    "\n",
    "# Matemática + manipulação de vetores\n",
    "import math\n",
    "import numpy as np\n",
    "\n",
    "# JAX\n",
    "import jax\n",
    "from jax import nn\n",
    "import jax.numpy as jnp\n",
    "\n",
    "# # \"Fixar\" números aleatórios a serem gerados\n",
    "np.random.seed(0)\n",
    "\n",
    "# Trabalhar com os dados\n",
    "import pandas as pd\n",
    "from sklearn.datasets import fetch_openml\n",
    "from sklearn.model_selection import train_test_split\n",
    "\n",
    "# Utilidades\n",
    "import utils\n",
    "\n",
    "# Recarregar automaticamente dependências caso elas mudem\n",
    "%load_ext autoreload\n",
    "%autoreload 2"
   ]
  },
  {
   "cell_type": "markdown",
   "metadata": {},
   "source": [
    "### Gerando dados sintéticos\n",
    "\n",
    "$Y = 7 * X + 15$"
   ]
  },
  {
   "cell_type": "code",
   "execution_count": 2,
   "metadata": {},
   "outputs": [
    {
     "name": "stderr",
     "output_type": "stream",
     "text": [
      "WARNING:absl:No GPU/TPU found, falling back to CPU. (Set TF_CPP_MIN_LOG_LEVEL=0 and rerun for more info.)\n"
     ]
    }
   ],
   "source": [
    "# número de dados sintéticos gerados\n",
    "SYNT_TRAIN_SIZE = 200\n",
    "\n",
    "# controla o quão espalhados são os dados\n",
    "STD_DEV = 0.7\n",
    "\n",
    "def random_error(size, mu=0, std_dev=0.5):\n",
    "    return np.random.normal(mu, std_dev, size)\n",
    "\n",
    "def add_batch_dim(tensor):\n",
    "    if len(tensor.shape) == 1:\n",
    "        return jnp.expand_dims(tensor, axis=1)\n",
    "    else:\n",
    "        return tensor\n",
    "\n",
    "def remove_batch_dim(tensor):\n",
    "    return jnp.squeeze(tensor, axis=1)\n",
    "    \n",
    "def generate_x(size, use_batch_dim=True):\n",
    "    x = np.random.rand(size)\n",
    "    if use_batch_dim:\n",
    "        x = add_batch_dim(x)\n",
    "    return x\n",
    "\n",
    "def plot_line(x, y, style='-b'):\n",
    "    x, y = remove_batch_dim(x), remove_batch_dim(y)\n",
    "    return plt.plot([min(x), max(x)], [min(y), max(y)], style)\n",
    "\n",
    "def generate_f(x, a=7, b=15, error_std_dev=0.5, use_batch_dim=True):\n",
    "    y = a * x + b + random_error(x.shape, std_dev=error_std_dev)\n",
    "    if use_batch_dim:\n",
    "        y = add_batch_dim(y)\n",
    "    return y\n",
    "def identity(x):\n",
    "    return x\n",
    "\n",
    "# gera valores aleatórios para x\n",
    "synt_x = generate_x(SYNT_TRAIN_SIZE)\n",
    "\n",
    "# gera a funcão: Y = 7 * X + 15\n",
    "synt_y = generate_f(synt_x, error_std_dev=STD_DEV)"
   ]
  },
  {
   "cell_type": "code",
   "execution_count": 3,
   "metadata": {},
   "outputs": [
    {
     "data": {
      "image/png": "[encoded data removed]",
      "text/plain": [
       "<Figure size 432x288 with 1 Axes>"
      ]
     },
     "metadata": {
      "needs_background": "light"
     },
     "output_type": "display_data"
    }
   ],
   "source": [
    "plt.plot(synt_x, synt_y, 'ro', alpha=0.4)\n",
    "plot_line(synt_x, synt_x * 7 + 15)\n",
    "plt.show()"
   ]
  },
  {
   "cell_type": "markdown",
   "metadata": {},
   "source": [
    "### Implementando Rede Neural"
   ]
  },
  {
   "cell_type": "code",
   "execution_count": 24,
   "metadata": {},
   "outputs": [],
   "source": [
    "def define_params(sizes=[1, 1]):\n",
    "    '''He-et-all initialization'''\n",
    "    weights = []\n",
    "    for i, (in_dim, out_dim) in enumerate(zip(sizes[:-1], sizes[1:])):\n",
    "        weights.append({\"w\": np.random.randn(in_dim, out_dim) * np.sqrt(2/in_dim), \n",
    "                        \"b\": np.random.randn(out_dim) * np.sqrt(2/in_dim)})           \n",
    "    \n",
    "    return weights\n",
    "\n",
    "\n",
    "def apply_fn(weights, batch_x, activations):\n",
    "    output = batch_x\n",
    "    for layer, act_fn in zip(weights, activations):\n",
    "        output = jnp.dot(output, layer[\"w\"]) + layer[\"b\"]\n",
    "        output = act_fn(output)\n",
    "    return output\n",
    "\n",
    "def l2_loss(weights, batch_x, real_y, activations):\n",
    "    pred_y = apply_fn(weights, batch_x, activations)\n",
    "    return 0.5 * np.mean((pred_y - real_y)**2)"
   ]
  },
  {
   "cell_type": "markdown",
   "metadata": {},
   "source": [
    "### Implementando SGD"
   ]
  },
  {
   "cell_type": "code",
   "execution_count": 5,
   "metadata": {},
   "outputs": [],
   "source": [
    "def train_step(weights, batch_x, batch_y, activations, loss_fn=l2_loss):\n",
    "    loss, grads = jax.value_and_grad(loss_fn)(weights, batch_x, batch_y, activations)\n",
    "    weights = jax.tree_util.tree_multimap(lambda v, g: v - g, weights, grads)\n",
    "    return weights, loss\n",
    "\n",
    "def evaluate(self, batch_x, batch_y, metrics=[]):\n",
    "    # run feed forward network\n",
    "    pred_y = self.model.run_batch(batch_x)\n",
    "    # loss\n",
    "    loss = self.loss(pred_y, batch_y)\n",
    "    self.eval_losses.append(loss)\n",
    "    # metrics\n",
    "    res_metrics = []\n",
    "    for m in metrics:\n",
    "        if m in self._metrics:\n",
    "            res_metrics.append(self._metrics[m](pred_y, batch_y))\n",
    "        else:\n",
    "            raise ValueError('Invalid metric: %s' % m)\n",
    "        \n",
    "    self.eval_steps.append(self.train_step)\n",
    "            \n",
    "    return loss, res_metrics\n",
    "\n",
    "def plot_losses(train_losses, eval_losses, step):\n",
    "    if len(eval_losses) > 0:\n",
    "        plt.title('Train Loss: %.4f | Test Loss: %.4f for step %d' % (train_losses[-1], eval_losses[-1], step))\n",
    "    else:\n",
    "        plt.title('Train Loss: %.4f for step %d' % (train_losses[-1], step))    \n",
    "    plt.plot([i for i in range(step)], train_losses)\n",
    "    plt.plot([i for i in eval_steps], eval_losses)\n",
    "\n",
    "\n"
   ]
  },
  {
   "cell_type": "markdown",
   "metadata": {},
   "source": [
    "### Gradients\n",
    "\n",
    "##### L2 loss with 1 layer, no activation\n",
    "\n",
    "**Loss**\n",
    "\n",
    "$$L = 1/2 * 1/n * \\sum{(y_i - ŷ_i)^{2}}$$\n",
    "$$L = 1/2 * 1/n * \\sum{(y_i - w_i * x_i + b_i)^{2}}$$\n",
    "\n",
    "**Gradients**\n",
    "\n",
    "$$\\frac{\\partial L}{\\partial w_i} = 1/2 * 1/n * 2 * \\sum{(y_i - ŷ_i)} * \\frac{\\partial {ŷ_i}}{\\partial w_i} $$\n",
    "$$\\frac{\\partial L}{\\partial w_i} = 1/n * \\sum{(y_i - ŷ_i)} * x_i$$\n",
    "\n",
    "---\n",
    "\n",
    "$$\\frac{\\partial L}{\\partial b_i} = 1/2 * 1/n * 2 * \\sum{(y_i - ŷ_i)} * \\frac{\\partial {ŷ_i}}{\\partial b_i} $$\n",
    "$$\\frac{\\partial L}{\\partial b_i} = 1/n * \\sum{(y_i - ŷ_i)} * 1$$\n",
    "\n",
    "\n",
    "##### L2 loss with 2 layers, relu activation in the hidden layer\n",
    "\n",
    "**Loss**\n",
    "\n",
    "$$L = 1/2 * 1/n * \\sum{(y_i - ŷ_i)^{2}}$$\n",
    "$$L = 1/2 * 1/n * \\sum{(y_i - (w_j * x_j + b_j))^{2}}$$\n",
    "$$x_j = relu(w_i * x_i + b_i)$$\n",
    "\n",
    "\n",
    "**Gradients**\n",
    "\n",
    "$$\\frac{\\partial L}{\\partial w_i} = 1/n * \\sum{(y_i - ŷ_i)} * x_j $$\n",
    "$$\\frac{\\partial L}{\\partial b_i} = 1/n * \\sum{(y_i - ŷ_i)} * 1$$\n",
    "\n",
    "$$\\frac{\\partial L}{\\partial w_j} = 1/n * \\sum{(y_i - ŷ_i)} * x_j * x_i, se relu() > 0$$\n",
    "$$\\frac{\\partial L}{\\partial b_j} = 1/n * \\sum{(y_i - ŷ_i)} * x_j, se relu() > 0$$"
   ]
  },
  {
   "cell_type": "markdown",
   "metadata": {},
   "source": [
    "### Treinando"
   ]
  },
  {
   "cell_type": "code",
   "execution_count": 6,
   "metadata": {},
   "outputs": [
    {
     "name": "stdout",
     "output_type": "stream",
     "text": [
      "211.88776\n",
      "0.22370072\n",
      "0.22370064\n",
      "0.22370064\n",
      "0.22370064\n",
      "0.22370064\n",
      "0.22370064\n",
      "0.22370064\n",
      "0.22370064\n",
      "0.22370064\n"
     ]
    }
   ],
   "source": [
    "neural_net = define_params()\n",
    "for i in range(1000):\n",
    "    neural_net, loss = train_step(neural_net, synt_x, synt_y, [identity])\n",
    "    if i % 100 == 0:\n",
    "        print(loss)\n",
    "        \n",
    "# # t.plot_losses()"
   ]
  },
  {
   "cell_type": "markdown",
   "metadata": {},
   "source": [
    "#### Comparando com a realidade"
   ]
  },
  {
   "cell_type": "code",
   "execution_count": 24,
   "metadata": {},
   "outputs": [
    {
     "name": "stdout",
     "output_type": "stream",
     "text": [
      "Parâmetros aprendidos:\n",
      "pesos: [[6.6933656]]\n",
      "bias: [15.074862]\n",
      "Função que modela os dados: 7 * X + 15\n"
     ]
    },
    {
     "data": {
      "image/png": "[encoded data removed]",
      "text/plain": [
       "<Figure size 432x288 with 1 Axes>"
      ]
     },
     "metadata": {
      "needs_background": "light"
     },
     "output_type": "display_data"
    }
   ],
   "source": [
    "print('Parâmetros aprendidos:')\n",
    "print('pesos:', neural_net[0][\"w\"])\n",
    "print('bias:', neural_net[0][\"b\"])\n",
    "print('Função que modela os dados: 7 * X + 15')\n",
    "plot_line(synt_x, apply_fn(neural_net, synt_x, [identity]), '--r')\n",
    "plot_line(synt_x, synt_y)\n",
    "plt.show()"
   ]
  },
  {
   "cell_type": "markdown",
   "metadata": {},
   "source": [
    "### Uma função um pouco mais complicada\n",
    "\n",
    "$Y = 7 * log(x) + 1$\n"
   ]
  },
  {
   "cell_type": "code",
   "execution_count": 7,
   "metadata": {},
   "outputs": [],
   "source": [
    "def get_random_error(size, mu=0, std_dev=0.8):\n",
    "    return np.random.normal(mu, std_dev, size)\n",
    "\n",
    "synt_x = np.random.rand(SYNT_TRAIN_SIZE)\n",
    "synt_y = jnp.reshape(7 * np.log(synt_x) + 1 + get_random_error(SYNT_TRAIN_SIZE), (SYNT_TRAIN_SIZE, 1))\n",
    "\n",
    "synt_x = jnp.reshape(synt_x, (SYNT_TRAIN_SIZE, 1))"
   ]
  },
  {
   "cell_type": "code",
   "execution_count": 8,
   "metadata": {},
   "outputs": [
    {
     "data": {
      "text/plain": [
       "[<matplotlib.lines.Line2D at 0x7f5a0c702f50>]"
      ]
     },
     "execution_count": 8,
     "metadata": {},
     "output_type": "execute_result"
    },
    {
     "data": {
      "image/png": "[encoded data removed]",
      "text/plain": [
       "<Figure size 432x288 with 1 Axes>"
      ]
     },
     "metadata": {
      "needs_background": "light"
     },
     "output_type": "display_data"
    }
   ],
   "source": [
    "plt.plot(synt_x, synt_y, 'ro', alpha=0.5)"
   ]
  },
  {
   "cell_type": "code",
   "execution_count": 16,
   "metadata": {},
   "outputs": [],
   "source": [
    "nn = define_params(sizes=[1, 10, 1])\n",
    "activations=[jax.nn.sigmoid, identity]"
   ]
  },
  {
   "cell_type": "code",
   "execution_count": 26,
   "metadata": {},
   "outputs": [],
   "source": [
    "for i in range(1000):\n",
    "    nn, loss = train_step(nn, synt_x, synt_y, activations)\n",
    "\n",
    "# plot_losses()"
   ]
  },
  {
   "cell_type": "code",
   "execution_count": 27,
   "metadata": {},
   "outputs": [
    {
     "name": "stdout",
     "output_type": "stream",
     "text": [
      "Parâmetros aprendidos:\n",
      "pesos: [DeviceArray([[ -7.455005  , -16.347853  ,  -0.84756553,  -6.447151  ,\n",
      "               -7.4279637 , -12.303604  , -10.097615  , -10.148254  ,\n",
      "              -12.364756  , -46.429806  ]], dtype=float32), DeviceArray([[  9.721085  ],\n",
      "             [ -8.911329  ],\n",
      "             [  9.445306  ],\n",
      "             [  0.22159743],\n",
      "             [  5.3888206 ],\n",
      "             [  6.3215    ],\n",
      "             [ -3.930574  ],\n",
      "             [  8.168222  ],\n",
      "             [  6.166117  ],\n",
      "             [-17.844713  ]], dtype=float32)]\n",
      "bias: [DeviceArray([ -8.674239 ,   7.2597938,  -9.923597 ,  -6.6514344,\n",
      "             -14.212091 , -15.800454 ,   1.234818 , -13.057161 ,\n",
      "             -16.256367 ,   3.3652153], dtype=float32), DeviceArray([-2.0572762], dtype=float32)]\n",
      "Função que modela os dados: 7 * X + 15\n"
     ]
    },
    {
     "data": {
      "image/png": "[encoded data removed]",
      "text/plain": [
       "<Figure size 432x288 with 1 Axes>"
      ]
     },
     "metadata": {
      "needs_background": "light"
     },
     "output_type": "display_data"
    }
   ],
   "source": [
    "print('Parâmetros aprendidos:')\n",
    "print('pesos:', [weight[\"w\"] for weight in nn])\n",
    "print('bias:', [weight[\"b\"] for weight in nn])\n",
    "print('Função que modela os dados: 7 * X + 15')\n",
    "plt.plot(synt_x, apply_fn(nn, synt_x, activations), 'or', alpha=0.3)\n",
    "plt.plot(synt_x, synt_y, 'og', alpha=0.3)\n",
    "plt.show()"
   ]
  },
  {
   "cell_type": "markdown",
   "metadata": {},
   "source": [
    "### E se os dados forem não lineares?"
   ]
  },
  {
   "cell_type": "code",
   "execution_count": 44,
   "metadata": {},
   "outputs": [],
   "source": [
    "xor_x = jnp.array([[0, 0], [0, 1], [1, 0], [1, 1]])\n",
    "xor_y = jnp.array([[0], [1], [1], [0]])"
   ]
  },
  {
   "cell_type": "code",
   "execution_count": 51,
   "metadata": {},
   "outputs": [
    {
     "name": "stdout",
     "output_type": "stream",
     "text": [
      "[[ -3.375266     0.79805183]\n",
      " [-10.314086     2.9373302 ]\n",
      " [ -0.876618     0.7105523 ]\n",
      " [ -7.9580593    2.4523752 ]]\n",
      "0.7018602\n",
      "[[ 0.02091762 -0.0087807 ]\n",
      " [ 0.99853873  0.99898255]\n",
      " [ 1.0011417   0.996643  ]\n",
      " [-0.01650289  0.01685387]]\n",
      "7.0809765e-05\n",
      "[[ 0.00297777 -0.00129701]\n",
      " [ 0.99983203  0.9997932 ]\n",
      " [ 1.0003508   0.9994863 ]\n",
      " [-0.00265829  0.00257718]]\n",
      "1.6057588e-06\n",
      "[[ 4.7342398e-04 -2.0657014e-04]\n",
      " [ 9.9997783e-01  9.9997115e-01]\n",
      " [ 1.0000566e+00  9.9991620e-01]\n",
      " [-4.2956800e-04  4.0727179e-04]]\n",
      "4.0798703e-08\n",
      "[[ 7.5866352e-05 -3.3181394e-05]\n",
      " [ 9.9999642e-01  9.9999535e-01]\n",
      " [ 1.0000092e+00  9.9998665e-01]\n",
      " [-6.8939276e-05  6.5284548e-05]]\n",
      "1.0489044e-09\n",
      "[[ 1.2221091e-05 -5.2489340e-06]\n",
      " [ 9.9999946e-01  9.9999923e-01]\n",
      " [ 1.0000014e+00  9.9999785e-01]\n",
      " [-1.1099764e-05  1.0502525e-05]]\n",
      "2.7121461e-11\n",
      "[[ 2.1337328e-06 -7.8068115e-07]\n",
      " [ 9.9999988e-01  9.9999982e-01]\n",
      " [ 1.0000002e+00  9.9999964e-01]\n",
      " [-1.9787258e-06  1.5420374e-06]]\n",
      "7.608461e-13\n",
      "[[ 5.8795558e-07 -5.0989911e-08]\n",
      " [ 9.9999982e-01  9.9999982e-01]\n",
      " [ 1.0000001e+00  9.9999994e-01]\n",
      " [-4.3137698e-07  3.1036325e-07]]\n",
      "4.3720378e-14\n",
      "[[ 4.2357715e-07 -3.0267984e-08]\n",
      " [ 9.9999982e-01  9.9999982e-01]\n",
      " [ 1.0000001e+00  9.9999994e-01]\n",
      " [-3.0001684e-07  2.5331974e-07]]\n",
      "2.5043412e-14\n",
      "[[ 4.2887405e-07 -3.1432137e-08]\n",
      " [ 9.9999982e-01  9.9999982e-01]\n",
      " [ 1.0000001e+00  9.9999994e-01]\n",
      " [-3.0042429e-07  2.4843030e-07]]\n",
      "2.5196364e-14\n"
     ]
    }
   ],
   "source": [
    "activations=[jax.nn.relu, identity]\n",
    "nn = define_params(sizes=[2, 10, 2])\n",
    "for i in range(1000):\n",
    "    nn, loss = train_step(nn, xor_x, xor_y, activations)\n",
    "    if i % 100 == 0:\n",
    "        print(apply_fn(nn, xor_x, activations))\n",
    "        print(loss)\n",
    "\n",
    "# plot_losses()"
   ]
  },
  {
   "cell_type": "code",
   "execution_count": 50,
   "metadata": {},
   "outputs": [
    {
     "data": {
      "text/plain": [
       "[<matplotlib.lines.Line2D at 0x7f5a0429f090>,\n",
       " <matplotlib.lines.Line2D at 0x7f5a1c045f50>,\n",
       " <matplotlib.lines.Line2D at 0x7f5a1e950c10>,\n",
       " <matplotlib.lines.Line2D at 0x7f5a1e950a50>]"
      ]
     },
     "execution_count": 50,
     "metadata": {},
     "output_type": "execute_result"
    },
    {
     "data": {
      "image/png": "[encoded data removed]",
      "text/plain": [
       "<Figure size 432x288 with 1 Axes>"
      ]
     },
     "metadata": {
      "needs_background": "light"
     },
     "output_type": "display_data"
    }
   ],
   "source": [
    "plt.plot(xor_x, apply_fn(nn, xor_x, activations), 'bo', xor_x, xor_y, 'ro', alpha=0.3)"
   ]
  },
  {
   "cell_type": "code",
   "execution_count": 53,
   "metadata": {},
   "outputs": [],
   "source": [
    "activations=[identity, identity]\n",
    "nn = define_params(sizes=[2, 10, 2])\n",
    "for i in range(1000):\n",
    "    nn, loss = train_step(nn, xor_x, xor_y, activations)\n",
    "\n",
    "# plot_losses()"
   ]
  },
  {
   "cell_type": "code",
   "execution_count": 54,
   "metadata": {
    "scrolled": true
   },
   "outputs": [
    {
     "data": {
      "text/plain": [
       "[<matplotlib.lines.Line2D at 0x7f5a1c10d890>,\n",
       " <matplotlib.lines.Line2D at 0x7f5a1c0b7c90>,\n",
       " <matplotlib.lines.Line2D at 0x7f5a0c43ced0>,\n",
       " <matplotlib.lines.Line2D at 0x7f5a0c43cfd0>]"
      ]
     },
     "execution_count": 54,
     "metadata": {},
     "output_type": "execute_result"
    },
    {
     "data": {
      "image/png": "[encoded data removed]",
      "text/plain": [
       "<Figure size 432x288 with 1 Axes>"
      ]
     },
     "metadata": {
      "needs_background": "light"
     },
     "output_type": "display_data"
    }
   ],
   "source": [
    "plt.plot(xor_x, apply_fn(nn, xor_x, activations), 'bo', xor_x, xor_y, 'ro', alpha=0.3)"
   ]
  },
  {
   "cell_type": "markdown",
   "metadata": {},
   "source": [
    "### Exemplo: [base dados Iris](https://mari-linhares.github.io/codando-deep-learning/notebooks/glossario.html#iris)\n",
    "\n",
    "Digamos que para um exemplo da base de dados queremos determinar qual a espécie dessa planta.\n",
    "\n",
    "**Entradas**\n",
    "\n",
    "A base de dados iris tem 4 **[atributos](https://mari-linhares.github.io/codando-deep-learning/notebooks/glossario.html#atributos)** de uma planta que iremos usar como entrada.\n",
    "\n",
    "**Saídas**\n",
    "\n",
    "Neste caso a saída que nos interessa é a espécie da planta. Então digamos que a saída é um número que indica qual a espécie:\n",
    "\n",
    "0 = Iris Setosa , 1 = Iris Versicolour, 2 = Iris Virginica"
   ]
  },
  {
   "cell_type": "markdown",
   "metadata": {},
   "source": [
    "### Obtendo os dados"
   ]
  },
  {
   "cell_type": "code",
   "execution_count": 55,
   "metadata": {},
   "outputs": [
    {
     "name": "stderr",
     "output_type": "stream",
     "text": [
      "/home/joaogui/.pyenv/versions/3.7.5/lib/python3.7/site-packages/sklearn/datasets/_openml.py:407: UserWarning: Multiple active versions of the dataset matching the name iris exist. Versions may be fundamentally different, returning version 1.\n",
      "  \" {version}.\".format(name=name, version=res[0]['version']))\n"
     ]
    }
   ],
   "source": [
    "# Carregar base de dados iris\n",
    "iris = fetch_openml('iris')\n",
    "\n",
    "# np.c_ concatena as features e targets do dataset\n",
    "iris_data = pd.DataFrame(data=np.c_[iris['data'], iris['target']],\n",
    "                         columns=['x0', 'x1', 'x2', 'x3', 'target'])"
   ]
  },
  {
   "cell_type": "code",
   "execution_count": 56,
   "metadata": {},
   "outputs": [
    {
     "data": {
      "text/html": [
       "<div>\n",
       "<style scoped>\n",
       "    .dataframe tbody tr th:only-of-type {\n",
       "        vertical-align: middle;\n",
       "    }\n",
       "\n",
       "    .dataframe tbody tr th {\n",
       "        vertical-align: top;\n",
       "    }\n",
       "\n",
       "    .dataframe thead th {\n",
       "        text-align: right;\n",
       "    }\n",
       "</style>\n",
       "<table border=\"1\" class=\"dataframe\">\n",
       "  <thead>\n",
       "    <tr style=\"text-align: right;\">\n",
       "      <th></th>\n",
       "      <th>x0</th>\n",
       "      <th>x1</th>\n",
       "      <th>x2</th>\n",
       "      <th>x3</th>\n",
       "      <th>target</th>\n",
       "    </tr>\n",
       "  </thead>\n",
       "  <tbody>\n",
       "    <tr>\n",
       "      <th>0</th>\n",
       "      <td>5.1</td>\n",
       "      <td>3.5</td>\n",
       "      <td>1.4</td>\n",
       "      <td>0.2</td>\n",
       "      <td>Iris-setosa</td>\n",
       "    </tr>\n",
       "    <tr>\n",
       "      <th>1</th>\n",
       "      <td>4.9</td>\n",
       "      <td>3.0</td>\n",
       "      <td>1.4</td>\n",
       "      <td>0.2</td>\n",
       "      <td>Iris-setosa</td>\n",
       "    </tr>\n",
       "    <tr>\n",
       "      <th>2</th>\n",
       "      <td>4.7</td>\n",
       "      <td>3.2</td>\n",
       "      <td>1.3</td>\n",
       "      <td>0.2</td>\n",
       "      <td>Iris-setosa</td>\n",
       "    </tr>\n",
       "    <tr>\n",
       "      <th>3</th>\n",
       "      <td>4.6</td>\n",
       "      <td>3.1</td>\n",
       "      <td>1.5</td>\n",
       "      <td>0.2</td>\n",
       "      <td>Iris-setosa</td>\n",
       "    </tr>\n",
       "    <tr>\n",
       "      <th>4</th>\n",
       "      <td>5.0</td>\n",
       "      <td>3.6</td>\n",
       "      <td>1.4</td>\n",
       "      <td>0.2</td>\n",
       "      <td>Iris-setosa</td>\n",
       "    </tr>\n",
       "  </tbody>\n",
       "</table>\n",
       "</div>"
      ],
      "text/plain": [
       "    x0   x1   x2   x3       target\n",
       "0  5.1  3.5  1.4  0.2  Iris-setosa\n",
       "1  4.9  3.0  1.4  0.2  Iris-setosa\n",
       "2  4.7  3.2  1.3  0.2  Iris-setosa\n",
       "3  4.6  3.1  1.5  0.2  Iris-setosa\n",
       "4  5.0  3.6  1.4  0.2  Iris-setosa"
      ]
     },
     "execution_count": 56,
     "metadata": {},
     "output_type": "execute_result"
    }
   ],
   "source": [
    "iris_data.head()"
   ]
  },
  {
   "cell_type": "code",
   "execution_count": 57,
   "metadata": {},
   "outputs": [
    {
     "data": {
      "text/html": [
       "<div>\n",
       "<style scoped>\n",
       "    .dataframe tbody tr th:only-of-type {\n",
       "        vertical-align: middle;\n",
       "    }\n",
       "\n",
       "    .dataframe tbody tr th {\n",
       "        vertical-align: top;\n",
       "    }\n",
       "\n",
       "    .dataframe thead th {\n",
       "        text-align: right;\n",
       "    }\n",
       "</style>\n",
       "<table border=\"1\" class=\"dataframe\">\n",
       "  <thead>\n",
       "    <tr style=\"text-align: right;\">\n",
       "      <th></th>\n",
       "      <th>x0</th>\n",
       "      <th>x1</th>\n",
       "      <th>x2</th>\n",
       "      <th>x3</th>\n",
       "      <th>target</th>\n",
       "    </tr>\n",
       "  </thead>\n",
       "  <tbody>\n",
       "    <tr>\n",
       "      <th>count</th>\n",
       "      <td>150.0</td>\n",
       "      <td>150.0</td>\n",
       "      <td>150.0</td>\n",
       "      <td>150.0</td>\n",
       "      <td>150</td>\n",
       "    </tr>\n",
       "    <tr>\n",
       "      <th>unique</th>\n",
       "      <td>35.0</td>\n",
       "      <td>23.0</td>\n",
       "      <td>43.0</td>\n",
       "      <td>22.0</td>\n",
       "      <td>3</td>\n",
       "    </tr>\n",
       "    <tr>\n",
       "      <th>top</th>\n",
       "      <td>5.0</td>\n",
       "      <td>3.0</td>\n",
       "      <td>1.5</td>\n",
       "      <td>0.2</td>\n",
       "      <td>Iris-setosa</td>\n",
       "    </tr>\n",
       "    <tr>\n",
       "      <th>freq</th>\n",
       "      <td>10.0</td>\n",
       "      <td>26.0</td>\n",
       "      <td>14.0</td>\n",
       "      <td>28.0</td>\n",
       "      <td>50</td>\n",
       "    </tr>\n",
       "  </tbody>\n",
       "</table>\n",
       "</div>"
      ],
      "text/plain": [
       "           x0     x1     x2     x3       target\n",
       "count   150.0  150.0  150.0  150.0          150\n",
       "unique   35.0   23.0   43.0   22.0            3\n",
       "top       5.0    3.0    1.5    0.2  Iris-setosa\n",
       "freq     10.0   26.0   14.0   28.0           50"
      ]
     },
     "execution_count": 57,
     "metadata": {},
     "output_type": "execute_result"
    }
   ],
   "source": [
    "iris_data.describe()"
   ]
  },
  {
   "cell_type": "code",
   "execution_count": 58,
   "metadata": {
    "scrolled": true
   },
   "outputs": [
    {
     "ename": "ValueError",
     "evalue": "hist method requires numerical or datetime columns, nothing to plot.",
     "output_type": "error",
     "traceback": [
      "\u001b[0;31m---------------------------------------------------------------------------\u001b[0m",
      "\u001b[0;31mValueError\u001b[0m                                Traceback (most recent call last)",
      "\u001b[0;32m<ipython-input-58-dd6a508d4784>\u001b[0m in \u001b[0;36m<module>\u001b[0;34m\u001b[0m\n\u001b[0;32m----> 1\u001b[0;31m \u001b[0miris_data\u001b[0m\u001b[0;34m.\u001b[0m\u001b[0mdrop\u001b[0m\u001b[0;34m(\u001b[0m\u001b[0;34m[\u001b[0m\u001b[0;34m'target'\u001b[0m\u001b[0;34m]\u001b[0m\u001b[0;34m,\u001b[0m \u001b[0maxis\u001b[0m\u001b[0;34m=\u001b[0m\u001b[0;36m1\u001b[0m\u001b[0;34m)\u001b[0m\u001b[0;34m.\u001b[0m\u001b[0mdiff\u001b[0m\u001b[0;34m(\u001b[0m\u001b[0;34m)\u001b[0m\u001b[0;34m.\u001b[0m\u001b[0mhist\u001b[0m\u001b[0;34m(\u001b[0m\u001b[0mcolor\u001b[0m\u001b[0;34m=\u001b[0m\u001b[0;34m'k'\u001b[0m\u001b[0;34m,\u001b[0m \u001b[0malpha\u001b[0m\u001b[0;34m=\u001b[0m\u001b[0;36m0.5\u001b[0m\u001b[0;34m,\u001b[0m \u001b[0mbins\u001b[0m\u001b[0;34m=\u001b[0m\u001b[0;36m10\u001b[0m\u001b[0;34m,\u001b[0m \u001b[0mfigsize\u001b[0m\u001b[0;34m=\u001b[0m\u001b[0;34m(\u001b[0m\u001b[0;36m4\u001b[0m\u001b[0;34m,\u001b[0m \u001b[0;36m5\u001b[0m\u001b[0;34m)\u001b[0m\u001b[0;34m)\u001b[0m\u001b[0;34m\u001b[0m\u001b[0;34m\u001b[0m\u001b[0m\n\u001b[0m\u001b[1;32m      2\u001b[0m \u001b[0mplt\u001b[0m\u001b[0;34m.\u001b[0m\u001b[0mshow\u001b[0m\u001b[0;34m(\u001b[0m\u001b[0;34m)\u001b[0m\u001b[0;34m\u001b[0m\u001b[0;34m\u001b[0m\u001b[0m\n",
      "\u001b[0;32m~/.pyenv/versions/3.7.5/lib/python3.7/site-packages/pandas/plotting/_core.py\u001b[0m in \u001b[0;36mhist_frame\u001b[0;34m(data, column, by, grid, xlabelsize, xrot, ylabelsize, yrot, ax, sharex, sharey, figsize, layout, bins, backend, legend, **kwargs)\u001b[0m\n\u001b[1;32m    225\u001b[0m         \u001b[0mlegend\u001b[0m\u001b[0;34m=\u001b[0m\u001b[0mlegend\u001b[0m\u001b[0;34m,\u001b[0m\u001b[0;34m\u001b[0m\u001b[0;34m\u001b[0m\u001b[0m\n\u001b[1;32m    226\u001b[0m         \u001b[0mbins\u001b[0m\u001b[0;34m=\u001b[0m\u001b[0mbins\u001b[0m\u001b[0;34m,\u001b[0m\u001b[0;34m\u001b[0m\u001b[0;34m\u001b[0m\u001b[0m\n\u001b[0;32m--> 227\u001b[0;31m         \u001b[0;34m**\u001b[0m\u001b[0mkwargs\u001b[0m\u001b[0;34m,\u001b[0m\u001b[0;34m\u001b[0m\u001b[0;34m\u001b[0m\u001b[0m\n\u001b[0m\u001b[1;32m    228\u001b[0m     )\n\u001b[1;32m    229\u001b[0m \u001b[0;34m\u001b[0m\u001b[0m\n",
      "\u001b[0;32m~/.pyenv/versions/3.7.5/lib/python3.7/site-packages/pandas/plotting/_matplotlib/hist.py\u001b[0m in \u001b[0;36mhist_frame\u001b[0;34m(data, column, by, grid, xlabelsize, xrot, ylabelsize, yrot, ax, sharex, sharey, figsize, layout, bins, legend, **kwds)\u001b[0m\n\u001b[1;32m    426\u001b[0m     \u001b[0;32mif\u001b[0m \u001b[0mnaxes\u001b[0m \u001b[0;34m==\u001b[0m \u001b[0;36m0\u001b[0m\u001b[0;34m:\u001b[0m\u001b[0;34m\u001b[0m\u001b[0;34m\u001b[0m\u001b[0m\n\u001b[1;32m    427\u001b[0m         raise ValueError(\n\u001b[0;32m--> 428\u001b[0;31m             \u001b[0;34m\"hist method requires numerical or datetime columns, nothing to plot.\"\u001b[0m\u001b[0;34m\u001b[0m\u001b[0;34m\u001b[0m\u001b[0m\n\u001b[0m\u001b[1;32m    429\u001b[0m         )\n\u001b[1;32m    430\u001b[0m \u001b[0;34m\u001b[0m\u001b[0m\n",
      "\u001b[0;31mValueError\u001b[0m: hist method requires numerical or datetime columns, nothing to plot."
     ]
    }
   ],
   "source": [
    "iris_data.drop(['target'], axis=1).diff().hist(color='k', alpha=0.5, bins=10, figsize=(4, 5))\n",
    "plt.show()"
   ]
  },
  {
   "cell_type": "code",
   "execution_count": 31,
   "metadata": {},
   "outputs": [],
   "source": [
    "x = iris.data\n",
    "y = iris.target\n",
    "x_train, x_test, y_train, y_test = train_test_split(x, y, test_size=0.25, random_state=42)"
   ]
  },
  {
   "cell_type": "code",
   "execution_count": 32,
   "metadata": {},
   "outputs": [],
   "source": [
    "def batches(x, y, batch_size=True):\n",
    "    idx = np.random.permutation(len(x))\n",
    "    x = x[idx]\n",
    "    y = y[idx]\n",
    "    \n",
    "    for i in range(0, len(x)-batch_size-1, batch_size):\n",
    "        batch_x = x[i:i+batch_size]\n",
    "        batch_y = y[i:i+batch_size]\n",
    "        yield batch_x, batch_y"
   ]
  },
  {
   "cell_type": "code",
   "execution_count": 33,
   "metadata": {},
   "outputs": [
    {
     "name": "stdout",
     "output_type": "stream",
     "text": [
      "Test loss = 1.21398, accuracy 0.44737\n",
      "Test loss = 1.19670, accuracy 0.52632\n",
      "Test loss = 1.20644, accuracy 0.55263\n",
      "Test loss = 1.20227, accuracy 0.55263\n",
      "Test loss = 1.17978, accuracy 0.55263\n",
      "Test loss = 1.12980, accuracy 0.55263\n",
      "Test loss = 1.04272, accuracy 0.52632\n",
      "Test loss = 0.90289, accuracy 0.63158\n",
      "Test loss = 0.72344, accuracy 0.94737\n",
      "Test loss = 0.57425, accuracy 0.94737\n",
      "Test loss = 0.48888, accuracy 0.94737\n",
      "Test loss = 0.44399, accuracy 0.94737\n",
      "Test loss = 0.42637, accuracy 0.94737\n",
      "Test loss = 0.41667, accuracy 0.94737\n",
      "Test loss = 0.40954, accuracy 0.94737\n",
      "Test loss = 0.40582, accuracy 0.94737\n",
      "Test loss = 0.40292, accuracy 0.94737\n",
      "Test loss = 0.39989, accuracy 0.94737\n",
      "Test loss = 0.40108, accuracy 0.94737\n",
      "Test loss = 0.40485, accuracy 0.92105\n",
      "Test loss = 0.40582, accuracy 0.92105\n",
      "Test loss = 0.40479, accuracy 0.92105\n",
      "Test loss = 0.40645, accuracy 0.92105\n",
      "Test loss = 0.40586, accuracy 0.92105\n",
      "Test loss = 0.40694, accuracy 0.92105\n",
      "Test loss = 0.40653, accuracy 0.92105\n",
      "Test loss = 0.40742, accuracy 0.92105\n",
      "Test loss = 0.40905, accuracy 0.92105\n",
      "Test loss = 0.41011, accuracy 0.89474\n",
      "Test loss = 0.41421, accuracy 0.89474\n",
      "Test loss = 0.41587, accuracy 0.89474\n",
      "Test loss = 0.41675, accuracy 0.89474\n",
      "Test loss = 0.42038, accuracy 0.89474\n",
      "Test loss = 0.42003, accuracy 0.89474\n",
      "Test loss = 0.41858, accuracy 0.89474\n",
      "Test loss = 0.42077, accuracy 0.89474\n",
      "Test loss = 0.42187, accuracy 0.89474\n",
      "Test loss = 0.42020, accuracy 0.89474\n",
      "Test loss = 0.42129, accuracy 0.89474\n",
      "Test loss = 0.42043, accuracy 0.89474\n",
      "Test loss = 0.41884, accuracy 0.89474\n",
      "Test loss = 0.41788, accuracy 0.89474\n",
      "Test loss = 0.41868, accuracy 0.89474\n",
      "Test loss = 0.41957, accuracy 0.89474\n",
      "Test loss = 0.41866, accuracy 0.89474\n",
      "Test loss = 0.41977, accuracy 0.89474\n",
      "Test loss = 0.41721, accuracy 0.89474\n",
      "Test loss = 0.41759, accuracy 0.89474\n",
      "Test loss = 0.41893, accuracy 0.89474\n",
      "Test loss = 0.42085, accuracy 0.89474\n",
      "Test loss = 0.41991, accuracy 0.89474\n",
      "Test loss = 0.42016, accuracy 0.89474\n",
      "Test loss = 0.41809, accuracy 0.89474\n",
      "Test loss = 0.41918, accuracy 0.89474\n",
      "Test loss = 0.42003, accuracy 0.89474\n",
      "Test loss = 0.41890, accuracy 0.89474\n",
      "Test loss = 0.41868, accuracy 0.89474\n",
      "Test loss = 0.41820, accuracy 0.89474\n",
      "Test loss = 0.42099, accuracy 0.89474\n",
      "Test loss = 0.41767, accuracy 0.89474\n",
      "Test loss = 0.42132, accuracy 0.89474\n",
      "Test loss = 0.42207, accuracy 0.89474\n",
      "Test loss = 0.42142, accuracy 0.89474\n",
      "Test loss = 0.42151, accuracy 0.89474\n",
      "Test loss = 0.42057, accuracy 0.89474\n",
      "Test loss = 0.42098, accuracy 0.89474\n",
      "Test loss = 0.41887, accuracy 0.89474\n",
      "Test loss = 0.42033, accuracy 0.89474\n",
      "Test loss = 0.42009, accuracy 0.89474\n",
      "Test loss = 0.42172, accuracy 0.86842\n",
      "Test loss = 0.42314, accuracy 0.86842\n",
      "Test loss = 0.42426, accuracy 0.86842\n",
      "Test loss = 0.42466, accuracy 0.86842\n",
      "Test loss = 0.42567, accuracy 0.86842\n",
      "Test loss = 0.42706, accuracy 0.86842\n",
      "Test loss = 0.42778, accuracy 0.86842\n",
      "Test loss = 0.42908, accuracy 0.86842\n",
      "Test loss = 0.42779, accuracy 0.86842\n",
      "Test loss = 0.43049, accuracy 0.86842\n",
      "Test loss = 0.42742, accuracy 0.86842\n",
      "Test loss = 0.42618, accuracy 0.86842\n",
      "Test loss = 0.42585, accuracy 0.86842\n",
      "Test loss = 0.42660, accuracy 0.86842\n",
      "Test loss = 0.42408, accuracy 0.86842\n",
      "Test loss = 0.42237, accuracy 0.86842\n",
      "Test loss = 0.42289, accuracy 0.86842\n",
      "Test loss = 0.42527, accuracy 0.86842\n",
      "Test loss = 0.42560, accuracy 0.86842\n",
      "Test loss = 0.42581, accuracy 0.86842\n",
      "Test loss = 0.42484, accuracy 0.86842\n",
      "Test loss = 0.42468, accuracy 0.86842\n",
      "Test loss = 0.42536, accuracy 0.86842\n",
      "Test loss = 0.42508, accuracy 0.86842\n",
      "Test loss = 0.42454, accuracy 0.86842\n",
      "Test loss = 0.42427, accuracy 0.86842\n",
      "Test loss = 0.42377, accuracy 0.86842\n",
      "Test loss = 0.42520, accuracy 0.86842\n",
      "Test loss = 0.42558, accuracy 0.86842\n",
      "Test loss = 0.42519, accuracy 0.86842\n",
      "Test loss = 0.42507, accuracy 0.86842\n"
     ]
    },
    {
     "data": {
      "image/png": "[encoded data removed]",
      "text/plain": [
       "<Figure size 432x288 with 1 Axes>"
      ]
     },
     "metadata": {
      "needs_background": "light"
     },
     "output_type": "display_data"
    }
   ],
   "source": [
    "nn = NeuralNetwork(layers=[10, 4], input_size=4, activations=['relu', None])\n",
    "t = Trainer(nn, verbose=False, loss_name='cross-entropy')\n",
    "for i in range(1000):\n",
    "    for batch_x, batch_y in batches(x, y, 16):\n",
    "        t.train(batch_x, batch_y)\n",
    "    if i % 10 == 0:\n",
    "        loss, metrics = t.eval(x_test, y_test, metrics=['accuracy'])\n",
    "        print('Test loss = %.5f, accuracy %.5f' % (loss, metrics[0]))\n",
    "\n",
    "t.plot_losses()"
   ]
  },
  {
   "cell_type": "markdown",
   "metadata": {},
   "source": [
    "### MNIIST"
   ]
  },
  {
   "cell_type": "code",
   "execution_count": null,
   "metadata": {},
   "outputs": [],
   "source": [
    "# load mnist\n",
    "mnist = fetch_mldata('MNIST original')"
   ]
  },
  {
   "cell_type": "code",
   "execution_count": null,
   "metadata": {},
   "outputs": [],
   "source": [
    "x = mnist.data / np.max(mnist.data)\n",
    "y = mnist.target\n",
    "x_train, x_test, y_train, y_test = train_test_split(x, y, test_size=0.25, random_state=42)"
   ]
  },
  {
   "cell_type": "code",
   "execution_count": null,
   "metadata": {},
   "outputs": [],
   "source": [
    "nn = NeuralNetwork(layers=[512, 256, 10], input_size=784, activations=['relu', 'relu', None])\n",
    "t = Trainer(nn, verbose=False, loss_name='cross-entropy', learning_rate=0.001)\n",
    "for i in range(20):\n",
    "    for batch_x, batch_y in batches(x, y, 64):\n",
    "        t.train(batch_x, batch_y)\n",
    "    if i % 1 == 0:\n",
    "        loss, metrics = t.eval(x_test, y_test, metrics=['accuracy'])\n",
    "        print('Test loss = %.5f, accuracy %.5f' % (loss, metrics[0]))\n",
    "\n",
    "t.plot_losses()"
   ]
  },
  {
   "cell_type": "markdown",
   "metadata": {},
   "source": [
    "## Em busca da função perfeita\n",
    "\n",
    "\n",
    "### Exemplo: [base dados Iris](https://mari-linhares.github.io/codando-deep-learning/notebooks/glossario.html#iris)\n",
    "\n",
    "Digamos que para um exemplo da base de dados queremos determinar qual a espécie dessa planta.\n",
    "\n",
    "**Entradas**\n",
    "\n",
    "A base de dados iris tem 4 **[atributos](https://mari-linhares.github.io/codando-deep-learning/notebooks/glossario.html#atributos)** de uma planta que iremos usar como entrada.\n",
    "\n",
    "**Saídas**\n",
    "\n",
    "Neste caso a saída que nos interessa é a espécie da planta. Então digamos que a saída é um número que indica qual a espécie:\n",
    "\n",
    "0 = Iris Setosa , 1 = Iris Versicolour, 2 = Iris Virginica\n",
    "\n",
    "### Obtendo a base de dados"
   ]
  },
  {
   "cell_type": "code",
   "execution_count": null,
   "metadata": {},
   "outputs": [],
   "source": [
    "# Ignorar warnings\n",
    "import warnings\n",
    "warnings.filterwarnings('ignore')\n",
    "\n",
    "# Trabalhar com os dados\n",
    "from sklearn.datasets import fetch_mldata\n",
    "\n",
    "# Atributos: iris_dataset.data\n",
    "# Espécie: iris_dataset.target\n",
    "iris_dataset = fetch_mldata('iris')\n",
    "\n",
    "print('Numero de exemplos na base:', len(iris_dataset.data))\n",
    "print('Atributos da primeira planta:', iris_dataset.data[0])\n",
    "print('Especie da primeira planta:', iris_dataset.target[0])"
   ]
  },
  {
   "cell_type": "markdown",
   "metadata": {},
   "source": [
    "### Vamos codar uma função que resolve esse problema!\n",
    "\n",
    "Uma função para resolver esse problema precisa receber 4 parâmetros (cada um dos atributos da planta) e produzir uma saída (espécie da planta).\n"
   ]
  },
  {
   "cell_type": "code",
   "execution_count": null,
   "metadata": {},
   "outputs": [],
   "source": [
    "def f(x1, x2, x3, x4):\n",
    "    # Não importa os atributos pra mim a resposta é sempre: Setosa!!!!\n",
    "    return 0\n",
    "\n",
    "print(f(*iris_dataset.data[0]), iris_dataset.target[0])\n",
    "print(f(*iris_dataset.data[1]), iris_dataset.target[1])\n",
    "print(f(*iris_dataset.data[-1]), iris_dataset.target[-1])"
   ]
  },
  {
   "cell_type": "markdown",
   "metadata": {},
   "source": [
    "A função acima é válida para este problema (4 entradas, 1 saída), o problema dela é que... Ela não ta ajudando a gente no nosso problema em nada! Ela simplesmente ignora os atributos e nos diz que qualquer exemplo é da espécie Setosa.\n",
    "\n",
    "Como podemos avaliar o quão boa é essa função? Uma métrica possível é [acurácia](https://mari-linhares.github.io/codando-deep-learning/notebooks/glossario.html#acuracia)\n",
    "\n",
    "\n",
    "Por exemplo: dado um banco com a altura de determinadas pessoas (entrada), queremos estimar o \"peso\" dessas pessoas. Nesse caso, o \"peso\" das pessoas é a variável que queremos estimar. Portanto, o \"peso\" nesse caso representaria a nossa saída. Sempre que a nossa saída é conhecida, nós dizemos que esse tipo de problema é um problema de **Aprendizagem Supervisionada**.Há casos em que não necessariamente o nosso problema tem uma saída explícita. Nesse caso, teremos uma **Aprendizagem Não-Supervisionada**.\n",
    "\n",
    "Além disso, quando a **saída assume qualquer valor real** (0, 1.2, 3.14, -26, +34, ...), nós dizemos que temos um **Problema de Regressão**. Por outro lado, quando a **saída é discreta** (0/1, saudável/doente, cachorro/gato/passarinho), nós temos **Problemas de Classificação**.\n",
    "\n",
    "\n",
    "\n",
    "A grande sacada é o que acontece dentro de `f`! A ideia é que não sabemos qual o melhor `f` possível, e poderíamos tentar várias funções para se **ajustar** aos dados.\n",
    "\n",
    "Em geral, elas são matrizes $NxD$, onde $N$ (#linhas) **representa o número de amostras** que seu banco de dados tem e $D$ (#colunas) **representa a quantidade de atributos** de cada amostra, também conhecida por *dimensionalidade*. Como exemplo, imagine que tenhamos um banco de dados com 1.000 amostras e cada amostra tem 5 atributos. Logo, nossas entradas seriam representadas por uma matriz $1000x5$, sacou? \n",
    "\n",
    "\n",
    "\n",
    "\n",
    "As entradas são representadas pelas amostras dos seus dados. Em geral, elas são matrizes $NxD$, onde $N$ (#linhas) **representa o número de amostras** que seu banco de dados tem e $D$ (#colunas) **representa a quantidade de atributos** de cada amostra, também conhecida por *dimensionalidade*. Como exemplo, imagine que tenhamos um banco de dados com 1.000 amostras e cada amostra tem 5 atributos. Logo, nossas entradas seriam representadas por uma matriz $1000x5$, sacou? \n",
    "\n",
    "**As saídas, por sua vez, representam o que você quer que a sua rede aprenda**. Por exemplo: dado um banco com a altura de determinadas pessoas (entrada), queremos estimar o \"peso\" dessas pessoas. Nesse caso, o \"peso\" das pessoas é a variável que queremos estimar. Portanto, o \"peso\" nesse caso representaria a nossa saída. Sempre que a nossa saída é conhecida, nós dizemos que esse tipo de problema é um problema de **Aprendizagem Supervisionada**. Há casos em que não necessariamente o nosso problema tem uma saída explícita. Nesse caso, teremos uma **Aprendizagem Não-Supervisionada**. Além disso, quando a **saída assume qualquer valor real** (0, 1.2, 3.14, -26, +34, ...), nós dizemos que temos um **Problema de Regressão**. Por outro lado, quando a **saída é discreta** (0/1, homem/mulher, cachorro/gato/passarinho), nós temos **Problemas de Classificação**."
   ]
  }
 ],
 "metadata": {
  "kernelspec": {
   "display_name": "Python 3",
   "language": "python",
   "name": "python3"
  },
  "language_info": {
   "codemirror_mode": {
    "name": "ipython",
    "version": 3
   },
   "file_extension": ".py",
   "mimetype": "text/x-python",
   "name": "python",
   "nbconvert_exporter": "python",
   "pygments_lexer": "ipython3",
   "version": "3.7.5"
  }
 },
 "nbformat": 4,
 "nbformat_minor": 4
}
