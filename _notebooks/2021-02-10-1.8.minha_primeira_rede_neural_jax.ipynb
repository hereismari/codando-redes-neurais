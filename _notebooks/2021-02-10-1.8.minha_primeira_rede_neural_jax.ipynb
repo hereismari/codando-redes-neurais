{
 "cells": [
  {
   "cell_type": "markdown",
   "metadata": {},
   "source": [
    "# 1.5 Introdução a Redes Neurais: minha primeira Rede Neural em JAX :D\n",
    "\n",
    "Vamos codar nossa primeira rede neural que de fato aprende com exemplos. Para isso vamos começar resolvendo o problema de regressão e classificação com bases de dados simples e fictícias para então resolver uma base de dados real.\n"
   ]
  },
  {
   "cell_type": "markdown",
   "metadata": {},
   "source": [
    "#### Dependências"
   ]
  },
  {
   "cell_type": "code",
   "execution_count": 1,
   "metadata": {},
   "outputs": [],
   "source": [
    "# Gráficos\n",
    "import matplotlib.pyplot as plt\n",
    "\n",
    "# Matemática + manipulação de vetores\n",
    "import math\n",
    "import numpy as np\n",
    "\n",
    "# JAX\n",
    "import jax\n",
    "from jax import nn\n",
    "import jax.numpy as jnp\n",
    "\n",
    "# # \"Fixar\" números aleatórios a serem gerados\n",
    "np.random.seed(0)\n",
    "\n",
    "# Trabalhar com os dados\n",
    "import pandas as pd\n",
    "from sklearn.datasets import load_iris, fetch_openml\n",
    "from sklearn.preprocessing import OneHotEncoder\n",
    "from sklearn.model_selection import train_test_split\n",
    "\n",
    "# Utilidades\n",
    "import utils\n",
    "\n",
    "# Recarregar automaticamente dependências caso elas mudem\n",
    "%load_ext autoreload\n",
    "%autoreload 2"
   ]
  },
  {
   "cell_type": "markdown",
   "metadata": {},
   "source": [
    "### Gerando dados sintéticos\n",
    "\n",
    "$Y = 7 * X + 15$"
   ]
  },
  {
   "cell_type": "code",
   "execution_count": 2,
   "metadata": {},
   "outputs": [
    {
     "name": "stderr",
     "output_type": "stream",
     "text": [
      "WARNING:absl:No GPU/TPU found, falling back to CPU. (Set TF_CPP_MIN_LOG_LEVEL=0 and rerun for more info.)\n"
     ]
    }
   ],
   "source": [
    "# número de dados sintéticos gerados\n",
    "SYNT_TRAIN_SIZE = 200\n",
    "\n",
    "# controla o quão espalhados são os dados\n",
    "STD_DEV = 0.7\n",
    "\n",
    "def random_error(size, mu=0, std_dev=0.5):\n",
    "    return np.random.normal(mu, std_dev, size)\n",
    "\n",
    "def add_batch_dim(tensor):\n",
    "    if len(tensor.shape) == 1:\n",
    "        return jnp.expand_dims(tensor, axis=1)\n",
    "    else:\n",
    "        return tensor\n",
    "\n",
    "def remove_batch_dim(tensor):\n",
    "    return jnp.squeeze(tensor, axis=1)\n",
    "    \n",
    "def generate_x(size, use_batch_dim=True):\n",
    "    x = np.random.rand(size)\n",
    "    if use_batch_dim:\n",
    "        x = add_batch_dim(x)\n",
    "    return x\n",
    "\n",
    "def plot_line(x, y, style='-b'):\n",
    "    x, y = remove_batch_dim(x), remove_batch_dim(y)\n",
    "    return plt.plot([min(x), max(x)], [min(y), max(y)], style)\n",
    "\n",
    "def generate_f(x, a=7, b=15, error_std_dev=0.5, use_batch_dim=True):\n",
    "    y = a * x + b + random_error(x.shape, std_dev=error_std_dev)\n",
    "    if use_batch_dim:\n",
    "        y = add_batch_dim(y)\n",
    "    return y\n",
    "def identity(x):\n",
    "    return x\n",
    "def _accuracy(pred_y, real_y):\n",
    "    p = np.argmax(jax.nn.softmax(pred_y), axis=1)\n",
    "    if len(real_y.shape): #Se tiver usando one_hot encoding\n",
    "        real_y = np.argmax(real_y, axis=1)\n",
    "    return np.sum(p == real_y) / len(pred_y)\n",
    "# gera valores aleatórios para x\n",
    "synt_x = generate_x(SYNT_TRAIN_SIZE)\n",
    "\n",
    "# gera a funcão: Y = 7 * X + 15\n",
    "synt_y = generate_f(synt_x, error_std_dev=STD_DEV)"
   ]
  },
  {
   "cell_type": "code",
   "execution_count": 3,
   "metadata": {},
   "outputs": [
    {
     "data": {
      "image/png": "[encoded data removed]",
      "text/plain": [
       "<Figure size 432x288 with 1 Axes>"
      ]
     },
     "metadata": {
      "needs_background": "light"
     },
     "output_type": "display_data"
    }
   ],
   "source": [
    "plt.plot(synt_x, synt_y, 'ro', alpha=0.4)\n",
    "plot_line(synt_x, synt_x * 7 + 15)\n",
    "plt.show()"
   ]
  },
  {
   "cell_type": "markdown",
   "metadata": {},
   "source": [
    "### Implementando Rede Neural"
   ]
  },
  {
   "cell_type": "code",
   "execution_count": 4,
   "metadata": {},
   "outputs": [],
   "source": [
    "def define_params(sizes=[1, 1]):\n",
    "    '''He-et-all initialization'''\n",
    "    weights = []\n",
    "    for i, (in_dim, out_dim) in enumerate(zip(sizes[:-1], sizes[1:])):\n",
    "        weights.append({\"w\": np.random.randn(in_dim, out_dim) * np.sqrt(2/in_dim), \n",
    "                        \"b\": np.random.randn(out_dim) * np.sqrt(2/in_dim)})           \n",
    "    \n",
    "    return weights\n",
    "\n",
    "\n",
    "def apply_fn(weights, batch_x, activations):\n",
    "    output = batch_x\n",
    "    for layer, act_fn in zip(weights, activations):\n",
    "        output = jnp.dot(output, layer[\"w\"]) + layer[\"b\"]\n",
    "        output = act_fn(output)\n",
    "    return output\n",
    "\n",
    "def l2_loss(weights, batch_x, real_y, activations):\n",
    "    pred_y = apply_fn(weights, batch_x, activations)\n",
    "    return 0.5 * np.mean((pred_y - real_y)**2)\n",
    "\n",
    "def cross_entropy(weights, batch_x, real_y, activations):\n",
    "    pred_y = apply_fn(weights, batch_x, activations)\n",
    "    real_y = jnp.asarray(real_y)\n",
    "    return -jnp.mean(jnp.sum(pred_y * real_y, axis=1))"
   ]
  },
  {
   "cell_type": "markdown",
   "metadata": {},
   "source": [
    "### Implementando SGD"
   ]
  },
  {
   "cell_type": "code",
   "execution_count": 5,
   "metadata": {},
   "outputs": [],
   "source": [
    "def train_step(weights, batch_x, batch_y, activations, loss_fn=l2_loss, lr=0.1):\n",
    "    loss, grads = jax.value_and_grad(loss_fn)(weights, batch_x, batch_y, activations)\n",
    "    weights = jax.tree_util.tree_multimap(lambda v, g: v - lr*g, weights, grads)\n",
    "    return weights, loss\n",
    "\n",
    "\n",
    "def evaluate(weights, activations, batch_x, batch_y, metrics=[], loss_fn=l2_loss):\n",
    "    # run feed forward network\n",
    "    pred_y = apply_fn(weights, batch_x, activations)\n",
    "    # loss\n",
    "    loss = loss_fn(weights, batch_x, batch_y, activations)\n",
    "    # metrics\n",
    "    res_metrics = []\n",
    "    for m in metrics:\n",
    "        res_metrics.append(m(pred_y, batch_y))\n",
    "            \n",
    "    return loss, res_metrics\n",
    "\n",
    "def plot_losses(train_losses, eval_losses, step):\n",
    "    if len(eval_losses) > 0:\n",
    "        plt.title('Train Loss: %.4f | Test Loss: %.4f for step %d' % (train_losses[-1], eval_losses[-1], step))\n",
    "        plt.plot([i for i in range(0, step, 10)], eval_losses)\n",
    "    else:\n",
    "        plt.title('Train Loss: %.4f for step %d' % (train_losses[-1], step))    \n",
    "        \n",
    "    plt.plot([i for i in range(step)], train_losses)"
   ]
  },
  {
   "cell_type": "markdown",
   "metadata": {},
   "source": [
    "### Gradients\n",
    "\n",
    "##### L2 loss with 1 layer, no activation\n",
    "\n",
    "**Loss**\n",
    "\n",
    "$$L = 1/2 * 1/n * \\sum{(y_i - ŷ_i)^{2}}$$\n",
    "$$L = 1/2 * 1/n * \\sum{(y_i - w_i * x_i + b_i)^{2}}$$\n",
    "\n",
    "**Gradients**\n",
    "\n",
    "$$\\frac{\\partial L}{\\partial w_i} = 1/2 * 1/n * 2 * \\sum{(y_i - ŷ_i)} * \\frac{\\partial {ŷ_i}}{\\partial w_i} $$\n",
    "$$\\frac{\\partial L}{\\partial w_i} = 1/n * \\sum{(y_i - ŷ_i)} * x_i$$\n",
    "\n",
    "---\n",
    "\n",
    "$$\\frac{\\partial L}{\\partial b_i} = 1/2 * 1/n * 2 * \\sum{(y_i - ŷ_i)} * \\frac{\\partial {ŷ_i}}{\\partial b_i} $$\n",
    "$$\\frac{\\partial L}{\\partial b_i} = 1/n * \\sum{(y_i - ŷ_i)} * 1$$\n",
    "\n",
    "\n",
    "##### L2 loss with 2 layers, relu activation in the hidden layer\n",
    "\n",
    "**Loss**\n",
    "\n",
    "$$L = 1/2 * 1/n * \\sum{(y_i - ŷ_i)^{2}}$$\n",
    "$$L = 1/2 * 1/n * \\sum{(y_i - (w_j * x_j + b_j))^{2}}$$\n",
    "$$x_j = relu(w_i * x_i + b_i)$$\n",
    "\n",
    "\n",
    "**Gradients**\n",
    "\n",
    "$$\\frac{\\partial L}{\\partial w_i} = 1/n * \\sum{(y_i - ŷ_i)} * x_j $$\n",
    "$$\\frac{\\partial L}{\\partial b_i} = 1/n * \\sum{(y_i - ŷ_i)} * 1$$\n",
    "\n",
    "$$\\frac{\\partial L}{\\partial w_j} = 1/n * \\sum{(y_i - ŷ_i)} * x_j * x_i, se relu() > 0$$\n",
    "$$\\frac{\\partial L}{\\partial b_j} = 1/n * \\sum{(y_i - ŷ_i)} * x_j, se relu() > 0$$"
   ]
  },
  {
   "cell_type": "markdown",
   "metadata": {},
   "source": [
    "### Treinando"
   ]
  },
  {
   "cell_type": "code",
   "execution_count": 6,
   "metadata": {},
   "outputs": [
    {
     "data": {
      "image/png": "[encoded data removed]",
      "text/plain": [
       "<Figure size 432x288 with 1 Axes>"
      ]
     },
     "metadata": {
      "needs_background": "light"
     },
     "output_type": "display_data"
    }
   ],
   "source": [
    "neural_net = define_params()\n",
    "train_losses = []\n",
    "eval_losses = []\n",
    "for i in range(1000):\n",
    "    neural_net, loss = train_step(neural_net, synt_x, synt_y, [identity])\n",
    "    train_losses.append(loss)\n",
    "#     if i % 10 == 0:\n",
    "#         loss, metrics = evaluate(neural_net, [identity], synt_x, synt_y, metrics=[_accuracy])\n",
    "#         eval_losses.append(loss)\n",
    "        \n",
    "plot_losses(train_losses, eval_losses, 1000)"
   ]
  },
  {
   "cell_type": "markdown",
   "metadata": {},
   "source": [
    "#### Comparando com a realidade"
   ]
  },
  {
   "cell_type": "code",
   "execution_count": 7,
   "metadata": {},
   "outputs": [
    {
     "name": "stdout",
     "output_type": "stream",
     "text": [
      "Parâmetros aprendidos:\n",
      "pesos: [[6.692199]]\n",
      "bias: [15.075487]\n",
      "Função que modela os dados: 7 * X + 15\n"
     ]
    },
    {
     "data": {
      "image/png": "[encoded data removed]",
      "text/plain": [
       "<Figure size 432x288 with 1 Axes>"
      ]
     },
     "metadata": {
      "needs_background": "light"
     },
     "output_type": "display_data"
    }
   ],
   "source": [
    "print('Parâmetros aprendidos:')\n",
    "print('pesos:', neural_net[0][\"w\"])\n",
    "print('bias:', neural_net[0][\"b\"])\n",
    "print('Função que modela os dados: 7 * X + 15')\n",
    "plot_line(synt_x, apply_fn(neural_net, synt_x, [identity]), '--r')\n",
    "plot_line(synt_x, synt_y)\n",
    "plt.show()"
   ]
  },
  {
   "cell_type": "markdown",
   "metadata": {},
   "source": [
    "### Uma função um pouco mais complicada\n",
    "\n",
    "$Y = 7 * log(x) + 1$\n"
   ]
  },
  {
   "cell_type": "code",
   "execution_count": 8,
   "metadata": {},
   "outputs": [],
   "source": [
    "def get_random_error(size, mu=0, std_dev=0.8):\n",
    "    return np.random.normal(mu, std_dev, size)\n",
    "\n",
    "synt_x = np.random.rand(SYNT_TRAIN_SIZE)\n",
    "synt_y = jnp.reshape(7 * np.log(synt_x) + 1 + get_random_error(SYNT_TRAIN_SIZE), (SYNT_TRAIN_SIZE, 1))\n",
    "\n",
    "synt_x = jnp.reshape(synt_x, (SYNT_TRAIN_SIZE, 1))"
   ]
  },
  {
   "cell_type": "code",
   "execution_count": 9,
   "metadata": {},
   "outputs": [
    {
     "data": {
      "text/plain": [
       "[<matplotlib.lines.Line2D at 0x7f1b2066d990>]"
      ]
     },
     "execution_count": 9,
     "metadata": {},
     "output_type": "execute_result"
    },
    {
     "data": {
      "image/png": "[encoded data removed]",
      "text/plain": [
       "<Figure size 432x288 with 1 Axes>"
      ]
     },
     "metadata": {
      "needs_background": "light"
     },
     "output_type": "display_data"
    }
   ],
   "source": [
    "plt.plot(synt_x, synt_y, 'ro', alpha=0.5)"
   ]
  },
  {
   "cell_type": "code",
   "execution_count": 10,
   "metadata": {},
   "outputs": [],
   "source": [
    "nn = define_params(sizes=[1, 10, 1])\n",
    "activations=[jax.nn.sigmoid, identity]\n",
    "train_losses = []\n",
    "eval_losses = []"
   ]
  },
  {
   "cell_type": "code",
   "execution_count": 11,
   "metadata": {},
   "outputs": [
    {
     "data": {
      "image/png": "[encoded data removed]",
      "text/plain": [
       "<Figure size 432x288 with 1 Axes>"
      ]
     },
     "metadata": {
      "needs_background": "light"
     },
     "output_type": "display_data"
    }
   ],
   "source": [
    "for i in range(1000):\n",
    "    nn, loss = train_step(nn, synt_x, synt_y, activations)\n",
    "    train_losses.append(loss)\n",
    "#     if i % 10 == 0:\n",
    "#         loss, metrics = evaluate(neural_net, [identity], synt_x, synt_y, metrics=[_accuracy])\n",
    "#         eval_losses.append(loss)\n",
    "\n",
    "plot_losses(train_losses, eval_losses, 1000)"
   ]
  },
  {
   "cell_type": "code",
   "execution_count": 12,
   "metadata": {},
   "outputs": [
    {
     "name": "stdout",
     "output_type": "stream",
     "text": [
      "Parâmetros aprendidos:\n",
      "pesos: [DeviceArray([[-4.405657 ,  0.4860704, -7.596714 , -2.9677794, 10.011526 ,\n",
      "              -2.6017227, -1.8996462, -8.952797 ,  1.0131673, -8.821257 ]],            dtype=float32), DeviceArray([[-5.419962  ],\n",
      "             [-0.21313462],\n",
      "             [-7.451459  ],\n",
      "             [-5.0258594 ],\n",
      "             [ 8.097725  ],\n",
      "             [-4.566792  ],\n",
      "             [-2.3503356 ],\n",
      "             [-8.587139  ],\n",
      "             [-1.6483995 ],\n",
      "             [-8.4986925 ]], dtype=float32)]\n",
      "bias: [DeviceArray([ 0.02200077, -0.5802973 , -0.1432708 ,  1.2722787 ,\n",
      "             -0.08803245,  1.3667308 ,  0.03255983, -0.02162656,\n",
      "              2.0635371 , -0.03442049], dtype=float32), DeviceArray([-3.8411722], dtype=float32)]\n",
      "Função que modela os dados: 7 * X + 15\n"
     ]
    },
    {
     "data": {
      "image/png": "[encoded data removed]",
      "text/plain": [
       "<Figure size 432x288 with 1 Axes>"
      ]
     },
     "metadata": {
      "needs_background": "light"
     },
     "output_type": "display_data"
    }
   ],
   "source": [
    "print('Parâmetros aprendidos:')\n",
    "print('pesos:', [weight[\"w\"] for weight in nn])\n",
    "print('bias:', [weight[\"b\"] for weight in nn])\n",
    "print('Função que modela os dados: 7 * X + 15')\n",
    "plt.plot(synt_x, apply_fn(nn, synt_x, activations), 'or', alpha=0.3)\n",
    "plt.plot(synt_x, synt_y, 'og', alpha=0.3)\n",
    "plt.show()"
   ]
  },
  {
   "cell_type": "markdown",
   "metadata": {},
   "source": [
    "### E se os dados forem não lineares?"
   ]
  },
  {
   "cell_type": "code",
   "execution_count": 13,
   "metadata": {},
   "outputs": [],
   "source": [
    "xor_x = jnp.array([[0, 0], [0, 1], [1, 0], [1, 1]])\n",
    "xor_y = jnp.array([[0], [1], [1], [0]])"
   ]
  },
  {
   "cell_type": "code",
   "execution_count": 14,
   "metadata": {},
   "outputs": [],
   "source": [
    "activations=[jax.nn.relu, identity]\n",
    "nn = define_params(sizes=[2, 10, 2])\n",
    "for i in range(1000):\n",
    "    nn, loss = train_step(nn, xor_x, xor_y, activations)\n",
    "\n",
    "# plot_losses()"
   ]
  },
  {
   "cell_type": "code",
   "execution_count": 15,
   "metadata": {},
   "outputs": [
    {
     "data": {
      "text/plain": [
       "[<matplotlib.lines.Line2D at 0x7f1b0072c590>,\n",
       " <matplotlib.lines.Line2D at 0x7f1b0071f290>,\n",
       " <matplotlib.lines.Line2D at 0x7f1b00738410>,\n",
       " <matplotlib.lines.Line2D at 0x7f1b00738850>]"
      ]
     },
     "execution_count": 15,
     "metadata": {},
     "output_type": "execute_result"
    },
    {
     "data": {
      "image/png": "[encoded data removed]",
      "text/plain": [
       "<Figure size 432x288 with 1 Axes>"
      ]
     },
     "metadata": {
      "needs_background": "light"
     },
     "output_type": "display_data"
    }
   ],
   "source": [
    "plt.plot(xor_x, apply_fn(nn, xor_x, activations), 'bo', xor_x, xor_y, 'ro', alpha=0.3)"
   ]
  },
  {
   "cell_type": "code",
   "execution_count": 16,
   "metadata": {},
   "outputs": [],
   "source": [
    "activations=[identity, identity]\n",
    "nn = define_params(sizes=[2, 10, 2])\n",
    "for i in range(1000):\n",
    "    nn, loss = train_step(nn, xor_x, xor_y, activations)\n",
    "\n",
    "# plot_losses()"
   ]
  },
  {
   "cell_type": "code",
   "execution_count": 17,
   "metadata": {
    "scrolled": true
   },
   "outputs": [
    {
     "data": {
      "text/plain": [
       "[<matplotlib.lines.Line2D at 0x7f1b204f0ed0>,\n",
       " <matplotlib.lines.Line2D at 0x7f1b00694fd0>,\n",
       " <matplotlib.lines.Line2D at 0x7f1b006af3d0>,\n",
       " <matplotlib.lines.Line2D at 0x7f1b006af490>]"
      ]
     },
     "execution_count": 17,
     "metadata": {},
     "output_type": "execute_result"
    },
    {
     "data": {
      "image/png": "[encoded data removed]",
      "text/plain": [
       "<Figure size 432x288 with 1 Axes>"
      ]
     },
     "metadata": {
      "needs_background": "light"
     },
     "output_type": "display_data"
    }
   ],
   "source": [
    "plt.plot(xor_x, apply_fn(nn, xor_x, activations), 'bo', xor_x, xor_y, 'ro', alpha=0.3)"
   ]
  },
  {
   "cell_type": "markdown",
   "metadata": {},
   "source": [
    "### Exemplo: [base dados Iris](https://mari-linhares.github.io/codando-deep-learning/notebooks/glossario.html#iris)\n",
    "\n",
    "Digamos que para um exemplo da base de dados queremos determinar qual a espécie dessa planta.\n",
    "\n",
    "**Entradas**\n",
    "\n",
    "A base de dados iris tem 4 **[atributos](https://mari-linhares.github.io/codando-deep-learning/notebooks/glossario.html#atributos)** de uma planta que iremos usar como entrada.\n",
    "\n",
    "**Saídas**\n",
    "\n",
    "Neste caso a saída que nos interessa é a espécie da planta. Então digamos que a saída é um número que indica qual a espécie:\n",
    "\n",
    "0 = Iris Setosa , 1 = Iris Versicolour, 2 = Iris Virginica"
   ]
  },
  {
   "cell_type": "markdown",
   "metadata": {},
   "source": [
    "### Obtendo os dados"
   ]
  },
  {
   "cell_type": "code",
   "execution_count": 18,
   "metadata": {},
   "outputs": [],
   "source": [
    "# Carregar base de dados iris\n",
    "iris = load_iris()\n",
    "\n",
    "# np.c_ concatena as features e targets do dataset\n",
    "iris_data = pd.DataFrame(data=np.c_[iris['data'], iris['target']],\n",
    "                         columns=['x0', 'x1', 'x2', 'x3', 'target'])"
   ]
  },
  {
   "cell_type": "code",
   "execution_count": 19,
   "metadata": {},
   "outputs": [
    {
     "data": {
      "text/html": [
       "<div>\n",
       "<style scoped>\n",
       "    .dataframe tbody tr th:only-of-type {\n",
       "        vertical-align: middle;\n",
       "    }\n",
       "\n",
       "    .dataframe tbody tr th {\n",
       "        vertical-align: top;\n",
       "    }\n",
       "\n",
       "    .dataframe thead th {\n",
       "        text-align: right;\n",
       "    }\n",
       "</style>\n",
       "<table border=\"1\" class=\"dataframe\">\n",
       "  <thead>\n",
       "    <tr style=\"text-align: right;\">\n",
       "      <th></th>\n",
       "      <th>x0</th>\n",
       "      <th>x1</th>\n",
       "      <th>x2</th>\n",
       "      <th>x3</th>\n",
       "      <th>target</th>\n",
       "    </tr>\n",
       "  </thead>\n",
       "  <tbody>\n",
       "    <tr>\n",
       "      <th>0</th>\n",
       "      <td>5.1</td>\n",
       "      <td>3.5</td>\n",
       "      <td>1.4</td>\n",
       "      <td>0.2</td>\n",
       "      <td>0.0</td>\n",
       "    </tr>\n",
       "    <tr>\n",
       "      <th>1</th>\n",
       "      <td>4.9</td>\n",
       "      <td>3.0</td>\n",
       "      <td>1.4</td>\n",
       "      <td>0.2</td>\n",
       "      <td>0.0</td>\n",
       "    </tr>\n",
       "    <tr>\n",
       "      <th>2</th>\n",
       "      <td>4.7</td>\n",
       "      <td>3.2</td>\n",
       "      <td>1.3</td>\n",
       "      <td>0.2</td>\n",
       "      <td>0.0</td>\n",
       "    </tr>\n",
       "    <tr>\n",
       "      <th>3</th>\n",
       "      <td>4.6</td>\n",
       "      <td>3.1</td>\n",
       "      <td>1.5</td>\n",
       "      <td>0.2</td>\n",
       "      <td>0.0</td>\n",
       "    </tr>\n",
       "    <tr>\n",
       "      <th>4</th>\n",
       "      <td>5.0</td>\n",
       "      <td>3.6</td>\n",
       "      <td>1.4</td>\n",
       "      <td>0.2</td>\n",
       "      <td>0.0</td>\n",
       "    </tr>\n",
       "  </tbody>\n",
       "</table>\n",
       "</div>"
      ],
      "text/plain": [
       "    x0   x1   x2   x3  target\n",
       "0  5.1  3.5  1.4  0.2     0.0\n",
       "1  4.9  3.0  1.4  0.2     0.0\n",
       "2  4.7  3.2  1.3  0.2     0.0\n",
       "3  4.6  3.1  1.5  0.2     0.0\n",
       "4  5.0  3.6  1.4  0.2     0.0"
      ]
     },
     "execution_count": 19,
     "metadata": {},
     "output_type": "execute_result"
    }
   ],
   "source": [
    "iris_data.head()"
   ]
  },
  {
   "cell_type": "code",
   "execution_count": 20,
   "metadata": {},
   "outputs": [
    {
     "data": {
      "text/html": [
       "<div>\n",
       "<style scoped>\n",
       "    .dataframe tbody tr th:only-of-type {\n",
       "        vertical-align: middle;\n",
       "    }\n",
       "\n",
       "    .dataframe tbody tr th {\n",
       "        vertical-align: top;\n",
       "    }\n",
       "\n",
       "    .dataframe thead th {\n",
       "        text-align: right;\n",
       "    }\n",
       "</style>\n",
       "<table border=\"1\" class=\"dataframe\">\n",
       "  <thead>\n",
       "    <tr style=\"text-align: right;\">\n",
       "      <th></th>\n",
       "      <th>x0</th>\n",
       "      <th>x1</th>\n",
       "      <th>x2</th>\n",
       "      <th>x3</th>\n",
       "      <th>target</th>\n",
       "    </tr>\n",
       "  </thead>\n",
       "  <tbody>\n",
       "    <tr>\n",
       "      <th>count</th>\n",
       "      <td>150.000000</td>\n",
       "      <td>150.000000</td>\n",
       "      <td>150.000000</td>\n",
       "      <td>150.000000</td>\n",
       "      <td>150.000000</td>\n",
       "    </tr>\n",
       "    <tr>\n",
       "      <th>mean</th>\n",
       "      <td>5.843333</td>\n",
       "      <td>3.057333</td>\n",
       "      <td>3.758000</td>\n",
       "      <td>1.199333</td>\n",
       "      <td>1.000000</td>\n",
       "    </tr>\n",
       "    <tr>\n",
       "      <th>std</th>\n",
       "      <td>0.828066</td>\n",
       "      <td>0.435866</td>\n",
       "      <td>1.765298</td>\n",
       "      <td>0.762238</td>\n",
       "      <td>0.819232</td>\n",
       "    </tr>\n",
       "    <tr>\n",
       "      <th>min</th>\n",
       "      <td>4.300000</td>\n",
       "      <td>2.000000</td>\n",
       "      <td>1.000000</td>\n",
       "      <td>0.100000</td>\n",
       "      <td>0.000000</td>\n",
       "    </tr>\n",
       "    <tr>\n",
       "      <th>25%</th>\n",
       "      <td>5.100000</td>\n",
       "      <td>2.800000</td>\n",
       "      <td>1.600000</td>\n",
       "      <td>0.300000</td>\n",
       "      <td>0.000000</td>\n",
       "    </tr>\n",
       "    <tr>\n",
       "      <th>50%</th>\n",
       "      <td>5.800000</td>\n",
       "      <td>3.000000</td>\n",
       "      <td>4.350000</td>\n",
       "      <td>1.300000</td>\n",
       "      <td>1.000000</td>\n",
       "    </tr>\n",
       "    <tr>\n",
       "      <th>75%</th>\n",
       "      <td>6.400000</td>\n",
       "      <td>3.300000</td>\n",
       "      <td>5.100000</td>\n",
       "      <td>1.800000</td>\n",
       "      <td>2.000000</td>\n",
       "    </tr>\n",
       "    <tr>\n",
       "      <th>max</th>\n",
       "      <td>7.900000</td>\n",
       "      <td>4.400000</td>\n",
       "      <td>6.900000</td>\n",
       "      <td>2.500000</td>\n",
       "      <td>2.000000</td>\n",
       "    </tr>\n",
       "  </tbody>\n",
       "</table>\n",
       "</div>"
      ],
      "text/plain": [
       "               x0          x1          x2          x3      target\n",
       "count  150.000000  150.000000  150.000000  150.000000  150.000000\n",
       "mean     5.843333    3.057333    3.758000    1.199333    1.000000\n",
       "std      0.828066    0.435866    1.765298    0.762238    0.819232\n",
       "min      4.300000    2.000000    1.000000    0.100000    0.000000\n",
       "25%      5.100000    2.800000    1.600000    0.300000    0.000000\n",
       "50%      5.800000    3.000000    4.350000    1.300000    1.000000\n",
       "75%      6.400000    3.300000    5.100000    1.800000    2.000000\n",
       "max      7.900000    4.400000    6.900000    2.500000    2.000000"
      ]
     },
     "execution_count": 20,
     "metadata": {},
     "output_type": "execute_result"
    }
   ],
   "source": [
    "iris_data.describe()"
   ]
  },
  {
   "cell_type": "code",
   "execution_count": 21,
   "metadata": {
    "scrolled": true
   },
   "outputs": [
    {
     "data": {
      "image/png": "[encoded data removed]",
      "text/plain": [
       "<Figure size 288x360 with 4 Axes>"
      ]
     },
     "metadata": {
      "needs_background": "light"
     },
     "output_type": "display_data"
    }
   ],
   "source": [
    "iris_data.drop(['target'], axis=1).diff().hist(color='k', alpha=0.5, bins=10, figsize=(4, 5))\n",
    "plt.show()"
   ]
  },
  {
   "cell_type": "code",
   "execution_count": 22,
   "metadata": {},
   "outputs": [],
   "source": [
    "def _one_hot(x, k, dtype=np.float32):\n",
    "  \"\"\"Create a one-hot encoding of x of size k.\"\"\"\n",
    "  return np.array(x[:, None] == np.arange(k), dtype)"
   ]
  },
  {
   "cell_type": "code",
   "execution_count": 23,
   "metadata": {},
   "outputs": [],
   "source": [
    "x = iris.data\n",
    "y = iris.target\n",
    "y = _one_hot(y, 3)\n",
    "x_train, x_test, y_train, y_test = train_test_split(x, y, test_size=0.25, random_state=42)"
   ]
  },
  {
   "cell_type": "code",
   "execution_count": 24,
   "metadata": {},
   "outputs": [],
   "source": [
    "def batches(x, y, batch_size=16):\n",
    "    idx = np.random.permutation(len(x))\n",
    "    x = x[idx]\n",
    "    y = y[idx]\n",
    "    \n",
    "    for i in range(0, len(x)-batch_size-1, batch_size):\n",
    "        batch_x = x[i:i+batch_size]\n",
    "        batch_y = y[i:i+batch_size]\n",
    "        yield batch_x, batch_y"
   ]
  },
  {
   "cell_type": "code",
   "execution_count": 25,
   "metadata": {},
   "outputs": [
    {
     "name": "stdout",
     "output_type": "stream",
     "text": [
      "Test loss = 0.96247, accuracy 0.63158\n",
      "Test loss = 0.76534, accuracy 0.71053\n",
      "Test loss = 0.66534, accuracy 0.71053\n",
      "Test loss = 0.62524, accuracy 0.71053\n",
      "Test loss = 0.59800, accuracy 0.71053\n",
      "Test loss = 0.57885, accuracy 0.71053\n",
      "Test loss = 0.56278, accuracy 0.71053\n",
      "Test loss = 0.54652, accuracy 0.71053\n",
      "Test loss = 0.53486, accuracy 0.76316\n",
      "Test loss = 0.52478, accuracy 0.76316\n"
     ]
    },
    {
     "data": {
      "image/png": "[encoded data removed]",
      "text/plain": [
       "<Figure size 432x288 with 1 Axes>"
      ]
     },
     "metadata": {
      "needs_background": "light"
     },
     "output_type": "display_data"
    }
   ],
   "source": [
    "activations=[jax.nn.relu, jax.nn.log_softmax]\n",
    "nn = define_params(sizes=[4, 10, 3])\n",
    "for i in range(100):\n",
    "    for batch_x, batch_y in batches(x_train, y_train):\n",
    "        nn, loss = train_step(nn, batch_x, batch_y, activations, loss_fn=cross_entropy, lr=0.01)\n",
    "    if i % 10 == 0:\n",
    "        loss, metrics = evaluate(nn, activations, x_test, y_test, metrics=[_accuracy], loss_fn=cross_entropy)\n",
    "        print('Test loss = %.5f, accuracy %.5f' % (loss, metrics[0]))\n",
    "\n",
    "plot_losses(train_losses, eval_losses, 1000)"
   ]
  },
  {
   "cell_type": "markdown",
   "metadata": {},
   "source": [
    "### MNIST"
   ]
  },
  {
   "cell_type": "code",
   "execution_count": 26,
   "metadata": {},
   "outputs": [],
   "source": [
    "# load mnist\n",
    "mnist = fetch_openml('mnist_784', version=1, return_X_y=True, as_frame=False)"
   ]
  },
  {
   "cell_type": "code",
   "execution_count": 28,
   "metadata": {},
   "outputs": [],
   "source": [
    "x = mnist[0] / np.max(mnist[0])\n",
    "y = np.array([int(label) for label in mnist[1]])\n",
    "y = _one_hot(y, 10)\n",
    "x_train, x_test, y_train, y_test = train_test_split(x, y, test_size=0.25, random_state=42)"
   ]
  },
  {
   "cell_type": "code",
   "execution_count": 29,
   "metadata": {},
   "outputs": [
    {
     "name": "stdout",
     "output_type": "stream",
     "text": [
      "Test loss = 1.34204, accuracy 0.73646\n",
      "Test loss = 0.88529, accuracy 0.81646\n",
      "Test loss = 0.67878, accuracy 0.84709\n",
      "Test loss = 0.57118, accuracy 0.86326\n",
      "Test loss = 0.50617, accuracy 0.87320\n",
      "Test loss = 0.46268, accuracy 0.88023\n",
      "Test loss = 0.43193, accuracy 0.88600\n",
      "Test loss = 0.40797, accuracy 0.89120\n",
      "Test loss = 0.38929, accuracy 0.89606\n",
      "Test loss = 0.37444, accuracy 0.89977\n",
      "Test loss = 0.36173, accuracy 0.90217\n",
      "Test loss = 0.35139, accuracy 0.90497\n",
      "Test loss = 0.34184, accuracy 0.90789\n",
      "Test loss = 0.33357, accuracy 0.90869\n",
      "Test loss = 0.32648, accuracy 0.91091\n",
      "Test loss = 0.31970, accuracy 0.91257\n",
      "Test loss = 0.31361, accuracy 0.91423\n",
      "Test loss = 0.30800, accuracy 0.91611\n",
      "Test loss = 0.30299, accuracy 0.91669\n",
      "Test loss = 0.29812, accuracy 0.91777\n"
     ]
    }
   ],
   "source": [
    "activations=[jax.nn.relu, jax.nn.relu, jax.nn.log_softmax]\n",
    "nn = define_params(sizes=[784, 512, 256, 10])\n",
    "for i in range(20):\n",
    "    for batch_x, batch_y in batches(x_train, y_train, 64):\n",
    "        nn, loss = train_step(nn, batch_x, batch_y, activations, loss_fn=cross_entropy, lr=0.001)\n",
    "    loss, metrics = evaluate(nn, activations, x_test, y_test, metrics=[_accuracy], loss_fn=cross_entropy)\n",
    "    print('Test loss = %.5f, accuracy %.5f' % (loss, metrics[0]))\n",
    "        \n",
    "\n",
    "# t.plot_losses()"
   ]
  }
 ],
 "metadata": {
  "kernelspec": {
   "display_name": "Python 3",
   "language": "python",
   "name": "python3"
  },
  "language_info": {
   "codemirror_mode": {
    "name": "ipython",
    "version": 3
   },
   "file_extension": ".py",
   "mimetype": "text/x-python",
   "name": "python",
   "nbconvert_exporter": "python",
   "pygments_lexer": "ipython3",
   "version": "3.7.5"
  }
 },
 "nbformat": 4,
 "nbformat_minor": 4
}
